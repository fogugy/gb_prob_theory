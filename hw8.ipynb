{
 "cells": [
  {
   "cell_type": "code",
   "execution_count": 1,
   "metadata": {},
   "outputs": [],
   "source": [
    "import numpy as np\n",
    "import pandas as pd\n",
    "import matplotlib.pyplot as plt\n",
    "%matplotlib inline"
   ]
  },
  {
   "cell_type": "markdown",
   "metadata": {},
   "source": [
    "#### Задание 1:\n",
    "Провести дисперсионный анализ для определения того, есть ли различия среднего роста среди взрослых футболистов, хоккеистов и штангистов. Даны значения роста в трех группах случайно выбранных спортсменов: Футболисты: 173, 175, 180, 178, 177, 185, 183, 182. Хоккеисты: 177, 179, 180, 188, 177, 172, 171, 184, 180. Штангисты: 172, 173, 169, 177, 166, 180, 178, 177, 172, 166, 170."
   ]
  },
  {
   "cell_type": "code",
   "execution_count": 2,
   "metadata": {},
   "outputs": [],
   "source": [
    "football = np.array([173, 175, 180, 178, 177, 185, 183, 182])\n",
    "hockey = np.array([177, 179, 180, 188, 177, 172, 171, 184, 180])\n",
    "lifter = np.array([172, 173, 169, 177, 166, 180, 178, 177, 172, 166, 170])"
   ]
  },
  {
   "cell_type": "code",
   "execution_count": 3,
   "metadata": {},
   "outputs": [],
   "source": [
    "n_ft = len(football)\n",
    "n_hk = len(hockey)\n",
    "n_lf = len(lifter)\n",
    "n_all = n_ft + n_hk + n_lf"
   ]
  },
  {
   "cell_type": "code",
   "execution_count": 4,
   "metadata": {},
   "outputs": [
    {
     "data": {
      "image/png": "[encoded data removed]",
      "text/plain": [
       "<Figure size 432x288 with 1 Axes>"
      ]
     },
     "metadata": {
      "needs_background": "light"
     },
     "output_type": "display_data"
    }
   ],
   "source": [
    "plt.scatter(['Футболисты']*n_ft, football)\n",
    "plt.scatter(['Хоккеисты']*n_hk, hockey)\n",
    "plt.scatter(['Штангисты']*n_lf, lifter);"
   ]
  },
  {
   "cell_type": "code",
   "execution_count": 5,
   "metadata": {},
   "outputs": [],
   "source": [
    "k = 3\n",
    "m_ft = football.mean()\n",
    "m_hk = hockey.mean()\n",
    "m_lf = lifter.mean()\n",
    "m_all = (m_ft*n_ft + m_hk*n_hk + m_lf*n_lf)/n_all"
   ]
  },
  {
   "cell_type": "code",
   "execution_count": 6,
   "metadata": {},
   "outputs": [
    {
     "data": {
      "text/plain": [
       "(830.964286, 830.964286)"
      ]
     },
     "execution_count": 6,
     "metadata": {},
     "output_type": "execute_result"
    }
   ],
   "source": [
    "SS = sum((np.array(list(football)+list(hockey)+list(lifter))-m_all)**2)\n",
    "SS_fact = n_ft*(m_ft-m_all)**2 + n_hk*(m_hk-m_all)**2 + n_lf*(m_lf-m_all)**2\n",
    "SS_ost = sum((football-m_ft)**2) + sum((hockey-m_hk)**2) + sum((lifter-m_lf)**2)\n",
    "\n",
    "round(SS, 6), round(SS_fact + SS_ost, 6)"
   ]
  },
  {
   "cell_type": "code",
   "execution_count": 8,
   "metadata": {},
   "outputs": [
    {
     "data": {
      "text/plain": [
       "(24660.77300473759, 32234.501034375593, 13319.782856404956)"
      ]
     },
     "execution_count": 8,
     "metadata": {},
     "output_type": "execute_result"
    }
   ],
   "source": [
    "D_all = SS**2/n_all\n",
    "D_fact = SS_fact**2/(k-1)\n",
    "D_ost = SS_ost**2/(n_all-k)\n",
    "D_all, D_fact, D_ost"
   ]
  },
  {
   "cell_type": "code",
   "execution_count": 9,
   "metadata": {},
   "outputs": [
    {
     "data": {
      "text/plain": [
       "5.856627661019723"
      ]
     },
     "execution_count": 9,
     "metadata": {},
     "output_type": "execute_result"
    }
   ],
   "source": [
    "Fh = D_fact**2/D_ost**2\n",
    "Fh"
   ]
  },
  {
   "cell_type": "code",
   "execution_count": 13,
   "metadata": {},
   "outputs": [],
   "source": [
    "F_crit = 3.3404"
   ]
  },
  {
   "cell_type": "markdown",
   "metadata": {},
   "source": [
    "#### Fh > F_crit => Гипотеза о статистически-значимом различии между группами подтверждена"
   ]
  },
  {
   "cell_type": "markdown",
   "metadata": {},
   "source": [
    "#### Задание 2:\n",
    "В качестве курсовой работы, хочу взять датасет https://www.kaggle.com/keplersmachines/kepler-labelled-time-series-data,\n",
    "    содержащий данные по подтвержденным экзопланетам, и посмотреть, какие зависимости я смогу определить. \n",
    "    Пока пустой репозиторий: https://github.com/fogugy/gb_prob_coursework"
   ]
  }
 ],
 "metadata": {
  "kernelspec": {
   "display_name": "Python 3",
   "language": "python",
   "name": "python3"
  },
  "language_info": {
   "codemirror_mode": {
    "name": "ipython",
    "version": 3
   },
   "file_extension": ".py",
   "mimetype": "text/x-python",
   "name": "python",
   "nbconvert_exporter": "python",
   "pygments_lexer": "ipython3",
   "version": "3.7.0"
  }
 },
 "nbformat": 4,
 "nbformat_minor": 2
}
