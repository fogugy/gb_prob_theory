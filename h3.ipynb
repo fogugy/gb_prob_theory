{
 "cells": [
  {
   "cell_type": "code",
   "execution_count": 1,
   "metadata": {},
   "outputs": [],
   "source": [
    "from math import sqrt"
   ]
  },
  {
   "cell_type": "markdown",
   "metadata": {},
   "source": [
    "#### Задание 1:\n",
    "Даны значения зарплат из выборки выпускников: 100, 80, 75, 77, 89, 33, 45, 25, 65, 17, 30, 24, 57, 55, 70, 75, 65, 84, 90, 150. Посчитать (желательно без использования статистических методов наподобие std, var, mean) среднее арифметическое, среднее квадратичное отклонение, смещенную и несмещенную оценки дисперсий для данной выборки."
   ]
  },
  {
   "cell_type": "code",
   "execution_count": 2,
   "metadata": {},
   "outputs": [],
   "source": [
    "# медиана\n",
    "def mean(array=[]):\n",
    "    array.sort()\n",
    "    mean_idx = int(len(array)/2)\n",
    "    return (array[mean_idx-1] + array[mean_idx])/2 if len(array)%2==0 else array[mean_idx]"
   ]
  },
  {
   "cell_type": "code",
   "execution_count": 3,
   "metadata": {},
   "outputs": [],
   "source": [
    "# среднее арифметическое\n",
    "def avg(array):\n",
    "    return sum(array)/len(array)"
   ]
  },
  {
   "cell_type": "code",
   "execution_count": 4,
   "metadata": {},
   "outputs": [],
   "source": [
    "# среднеквадратичное отклонение\n",
    "def std(array):\n",
    "    avg_v = avg(array)\n",
    "    return sqrt(sum(map(lambda x: (x-avg_v)**2,array))/len(array))"
   ]
  },
  {
   "cell_type": "code",
   "execution_count": 5,
   "metadata": {},
   "outputs": [],
   "source": [
    "# несмещенная оценка дисперсии\n",
    "def var_not_shifted(array):\n",
    "    avg_v = avg(array)\n",
    "    return sqrt(sum(map(lambda x: (x-avg_v)**2,array))/(len(array)-1))"
   ]
  },
  {
   "cell_type": "code",
   "execution_count": 6,
   "metadata": {
    "scrolled": false
   },
   "outputs": [
    {
     "name": "stdout",
     "output_type": "stream",
     "text": [
      "mean:  67.5\n",
      "avg:  65.3\n",
      "std:  30.823854398825596\n",
      "var_not_shifted:  31.624607341019814\n"
     ]
    }
   ],
   "source": [
    "ds = [100, 80, 75, 77, 89, 33, 45, 25, 65, 17, 30, 24, 57, 55, 70, 75, 65, 84, 90, 150]\n",
    "print('mean: ', mean(ds))\n",
    "print('avg: ', avg(ds))\n",
    "print('std: ', std(ds))\n",
    "print('var_not_shifted: ', var_not_shifted(ds))"
   ]
  },
  {
   "cell_type": "markdown",
   "metadata": {},
   "source": []
  }
 ],
 "metadata": {
  "kernelspec": {
   "display_name": "Python 3",
   "language": "python",
   "name": "python3"
  },
  "language_info": {
   "codemirror_mode": {
    "name": "ipython",
    "version": 3
   },
   "file_extension": ".py",
   "mimetype": "text/x-python",
   "name": "python",
   "nbconvert_exporter": "python",
   "pygments_lexer": "ipython3",
   "version": "3.7.3"
  }
 },
 "nbformat": 4,
 "nbformat_minor": 2
}
