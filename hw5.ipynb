{
 "cells": [
  {
   "cell_type": "code",
   "execution_count": 1,
   "metadata": {},
   "outputs": [],
   "source": [
    "from math import sqrt\n",
    "import numpy as np"
   ]
  },
  {
   "cell_type": "code",
   "execution_count": 2,
   "metadata": {},
   "outputs": [],
   "source": [
    "Z095 = 1.96"
   ]
  },
  {
   "cell_type": "code",
   "execution_count": 3,
   "metadata": {},
   "outputs": [],
   "source": [
    "def getT(average, Z, std_v, n):\n",
    "    return average - Z*std_v/sqrt(n), average + Z*std_v/sqrt(n)"
   ]
  },
  {
   "cell_type": "markdown",
   "metadata": {},
   "source": [
    "#### Задание 1:\n",
    "Известно, что генеральная совокупность распределена нормально\n",
    "со средним квадратическим отклонением, равным 16.\n",
    "Найти доверительный интервал для оценки математического ожидания a с надежностью 0.95,\n",
    "если выборочная средняя M = 80, а объем выборки n = 256."
   ]
  },
  {
   "cell_type": "code",
   "execution_count": 4,
   "metadata": {},
   "outputs": [
    {
     "name": "stdout",
     "output_type": "stream",
     "text": [
      "(78.04, 81.96)\n"
     ]
    }
   ],
   "source": [
    "std_v = 16\n",
    "a = 0.95\n",
    "n = 256\n",
    "M = 80\n",
    "\n",
    "T = getT(M, Z095, std_v, n)\n",
    "print(T)"
   ]
  },
  {
   "cell_type": "markdown",
   "metadata": {},
   "source": [
    "#### Задание 2:\n",
    "В результате 10 независимых измерений некоторой величины X, выполненных с одинаковой точностью,\n",
    "получены опытные данные:\n",
    "6.9, 6.1, 6.2, 6.8, 7.5, 6.3, 6.4, 6.9, 6.7, 6.1\n",
    "Предполагая, что результаты измерений подчинены нормальному закону распределения вероятностей,\n",
    "оценить истинное значение величины X при помощи доверительного интервала, покрывающего это\n",
    "значение с доверительной вероятностью 0,95."
   ]
  },
  {
   "cell_type": "code",
   "execution_count": 5,
   "metadata": {},
   "outputs": [
    {
     "name": "stdout",
     "output_type": "stream",
     "text": [
      "T: (6.267538255912426, 6.912461744087575)\n",
      "X: 6.590000000000001\n"
     ]
    }
   ],
   "source": [
    "vals = np.array([6.9, 6.1, 6.2, 6.8, 7.5, 6.3, 6.4, 6.9, 6.7, 6.1])\n",
    "n = len(vals)\n",
    "avg_v = vals.mean()\n",
    "std_v = vals.var(ddof=1)**0.5\n",
    "Z = 2.262 # из таблицы для критерия Стьюдента\n",
    "T = getT(avg_v, Z, std_v, n)\n",
    "print('T:', T)\n",
    "print('X:', (T[0]+T[1])/2)"
   ]
  },
  {
   "cell_type": "markdown",
   "metadata": {},
   "source": [
    "#### Задагние 3:\n",
    "Утверждается, что шарики для подшипников, изготовленные автоматическим станком, имеют средний диаметр 17 мм.\n",
    "Используя односторонний критерий с α=0,05, проверить эту гипотезу, если в выборке из n=100 шариков средний диаметр\n",
    "оказался равным 17.5 мм, а дисперсия известна и равна 4 мм."
   ]
  },
  {
   "cell_type": "code",
   "execution_count": 9,
   "metadata": {},
   "outputs": [
    {
     "name": "stdout",
     "output_type": "stream",
     "text": [
      "Zp: 2.5\n",
      "Гипотеза неверна\n"
     ]
    }
   ],
   "source": [
    "Xhyp = 17\n",
    "a = 0.05\n",
    "n = 100\n",
    "Xfact = 17.5\n",
    "D = 4\n",
    "std_v = sqrt(D)\n",
    "\n",
    "Za = 1.645\n",
    "Z = (Xfact - Xhyp)*sqrt(n)/std_v\n",
    "print('Zp:',Z)\n",
    "print('Гипотеза верна' if Z < Za else 'Гипотеза неверна')"
   ]
  },
  {
   "cell_type": "markdown",
   "metadata": {},
   "source": [
    "#### Задание 4:\n",
    "Продавец утверждает, что средний вес пачки печенья составляет 200 г.\n",
    "Из партии извлечена выборка из 10 пачек. Вес каждой пачки составляет:\n",
    "202, 203, 199, 197, 195, 201, 200, 204, 194, 190.\n",
    "Известно, что их веса распределены нормально.\n",
    "Верно ли утверждение продавца, если учитывать, что доверительная вероятность равна 99%?"
   ]
  },
  {
   "cell_type": "code",
   "execution_count": 13,
   "metadata": {},
   "outputs": [
    {
     "name": "stdout",
     "output_type": "stream",
     "text": [
      "Zp -1.0651074037450896\n",
      "Гипотеза верна\n"
     ]
    }
   ],
   "source": [
    "Xhyp = 200\n",
    "alpha = 0.005\n",
    "vals = np.array([202, 203, 199, 197, 195, 201, 200, 204, 194, 190])\n",
    "n = len(vals)\n",
    "Xfact = vals.mean()\n",
    "std_v = vals.var(ddof=1)**0.5\n",
    "\n",
    "Zp = (Xfact - Xhyp)*sqrt(n)/std_v\n",
    "print('Zp', Zp)\n",
    "print('Гипотеза верна' if -Za < Zp < Za else 'Гипотеза неверна')"
   ]
  },
  {
   "cell_type": "code",
   "execution_count": null,
   "metadata": {},
   "outputs": [],
   "source": []
  }
 ],
 "metadata": {
  "kernelspec": {
   "display_name": "Python 3",
   "language": "python",
   "name": "python3"
  },
  "language_info": {
   "codemirror_mode": {
    "name": "ipython",
    "version": 3
   },
   "file_extension": ".py",
   "mimetype": "text/x-python",
   "name": "python",
   "nbconvert_exporter": "python",
   "pygments_lexer": "ipython3",
   "version": "3.7.3"
  }
 },
 "nbformat": 4,
 "nbformat_minor": 2
}
